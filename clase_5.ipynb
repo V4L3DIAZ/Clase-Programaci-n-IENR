{
  "nbformat": 4,
  "nbformat_minor": 0,
  "metadata": {
    "colab": {
      "provenance": [],
      "authorship_tag": "ABX9TyMFtG7nX5hd/pTNQjPDAgne",
      "include_colab_link": true
    },
    "kernelspec": {
      "name": "python3",
      "display_name": "Python 3"
    },
    "language_info": {
      "name": "python"
    }
  },
  "cells": [
    {
      "cell_type": "markdown",
      "metadata": {
        "id": "view-in-github",
        "colab_type": "text"
      },
      "source": [
        "<a href=\"https://colab.research.google.com/github/V4L3DIAZ/Clase-Programaci-n-IENR/blob/main/clase_5.ipynb\" target=\"_parent\"><img src=\"https://colab.research.google.com/assets/colab-badge.svg\" alt=\"Open In Colab\"/></a>"
      ]
    },
    {
      "cell_type": "code",
      "execution_count": null,
      "metadata": {
        "id": "Ok8JOBBIQ79j"
      },
      "outputs": [],
      "source": []
    },
    {
      "cell_type": "markdown",
      "source": [
        "##Instrucciones Básicas en un Algoritmo\n",
        "14 - (7 + 4 * 3 - [(-2) * 2 * 2 - 6)] + (22 + 6 - 5 * 3) + 3 - (5 - 23 div 2)\n",
        "\n",
        "14 - (7 + 4 * 3 - [-4 * 2 - 6)] + (28 - 15) + 3 - (5 - 11)\n",
        "\n",
        "14 - (7 + 4 * 3 - [(- 8 - 6)] + (13) + 3 - (-6)\n",
        "\n",
        "14 - (7 + 12 - [(-14)] + (13) + 3 - (-6)\n",
        "\n",
        "14 - (19 - [(-14)] + (13) + 3 - (-6)\n",
        "\n",
        "14 - 33 + 13 + 3 - (-6)\n",
        "\n",
        "-19 + 13 + 3 - (-6)\n",
        "\n",
        "-6 + 3 - (-6)\n",
        "\n",
        "-3 - (-6)\n",
        "\n",
        "-3 + 6\n",
        "\n",
        "3\n",
        "\n",
        "\n",
        "Leer\n",
        "--> Solicitar un dato inicial\n",
        "--> Requerir un dato de entrada\n",
        "\n",
        "Leer <Dato, dato2, datos3,...)\n",
        "\n",
        "Leer datos es facil con la función: input()\n",
        "#Esto nos devolverá una cadena de texto\n",
        "#La cuál debemos capturar en alguna variable\n",
        "\n",
        "texto=input()\n",
        "\n",
        "#También input puede tener un parámetro indicado por el usuario\n",
        "#que debe ingresar.\n",
        "\n",
        "mes=input(\"Ingrese mes: \")\n",
        "\n",
        "#Conversiones de tipo de datos\n",
        "#La función input() retoma un texto\n",
        "#Si no queremos que retome un texto y sea un entero tenemos que convertirlo\n",
        "#Usando la función int()\n",
        "\n",
        "numero=input() #Esto es un número string (cadena)\n",
        "entero=int(numero)\n",
        "\n",
        "numero=input()\n",
        "decimal=float(input())\n",
        "\n",
        "##ASIGNAR\n",
        "variable <- <valor>\n",
        "\n",
        "número-5 #Esto asigna 5 a la variable\n",
        "\n",
        "##ESCRIBIR\n",
        "--> Mostrar resultado\n",
        "--> Visualizar el resultado\n",
        "--> Imprimir el resultado\n",
        "\n",
        "Escribir  <Valor Resultante>\n",
        "\n",
        "numero-5\n",
        "print(numero)\n",
        "\n",
        "día=15\n",
        "mes=\"Septiembre\"\n",
        "anio=\"2024\"\n",
        "\n",
        "print(dia,mes,anio)\n",
        "(print(\"dia: () mes: ()\", formart(dia,ms,anio))\n"
      ],
      "metadata": {
        "id": "kcNfyamKREiw"
      }
    }
  ]
}