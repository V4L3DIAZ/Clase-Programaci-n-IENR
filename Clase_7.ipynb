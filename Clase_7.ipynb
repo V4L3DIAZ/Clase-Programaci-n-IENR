{
  "nbformat": 4,
  "nbformat_minor": 0,
  "metadata": {
    "colab": {
      "provenance": [],
      "authorship_tag": "ABX9TyMQWNQO0sdRYFPsDqXJTsme",
      "include_colab_link": true
    },
    "kernelspec": {
      "name": "python3",
      "display_name": "Python 3"
    },
    "language_info": {
      "name": "python"
    }
  },
  "cells": [
    {
      "cell_type": "markdown",
      "metadata": {
        "id": "view-in-github",
        "colab_type": "text"
      },
      "source": [
        "<a href=\"https://colab.research.google.com/github/V4L3DIAZ/Clase-Programaci-n-IENR/blob/main/Clase_7.ipynb\" target=\"_parent\"><img src=\"https://colab.research.google.com/assets/colab-badge.svg\" alt=\"Open In Colab\"/></a>"
      ]
    },
    {
      "cell_type": "code",
      "execution_count": 1,
      "metadata": {
        "colab": {
          "base_uri": "https://localhost:8080/"
        },
        "id": "pPzUf5bGQPBx",
        "outputId": "bbe9d551-21f9-4fc0-b748-bac30f98435c"
      },
      "outputs": [
        {
          "output_type": "stream",
          "name": "stdout",
          "text": [
            "------------------------------------------------------------------\n",
            "----------------PROGRAMA QUE CALCULA EL PROMEDIO------------------\n",
            "------------------------------------------------------------------\n",
            "Ingrese las 3 calificaciones del alumno N1, N2 y N3\n",
            "N1: 185487578\n",
            "N2: 276497569\n",
            "N3: 098568368\n",
            "El promedio del alumno es:  186851171.66666666\n"
          ]
        }
      ],
      "source": [
        "print(\"------------------------------------------------------------------\")\n",
        "print(\"----------------PROGRAMA QUE CALCULA EL PROMEDIO------------------\")\n",
        "print(\"------------------------------------------------------------------\")\n",
        "\n",
        "#Datos de entrada\n",
        "print(\"Ingrese las 3 calificaciones del alumno N1, N2 y N3\")\n",
        "N1=int(input (\"N1: \"))\n",
        "N2=int(input (\"N2: \"))\n",
        "N3=int(input (\"N3: \"))\n",
        "\n",
        "#Proceso\n",
        "Promedio=(N1+N2+N3)/3\n",
        "\n",
        "#Salida\n",
        "print(\"El promedio del alumno es: \", Promedio)\n",
        "\n",
        "\n"
      ]
    },
    {
      "cell_type": "code",
      "execution_count": 4,
      "metadata": {
        "colab": {
          "base_uri": "https://localhost:8080/"
        },
        "outputId": "e285c839-373a-4c5e-dbc1-40d14b63608e",
        "id": "2EN2UAw5VpCw"
      },
      "outputs": [
        {
          "output_type": "stream",
          "name": "stdout",
          "text": [
            "-------------------------------------------------------------------------------------------------------------------\n",
            "----------------PROGRAMA QUE CALCULA LAS RESPUESTAS CORRECTAS, INCORRECTAS Y EN BLANCO DEL ALUMNO------------------\n",
            "-------------------------------------------------------------------------------------------------------------------\n",
            "Ingrese las respuestas correctas, incorrectas y en blanco del alumno\n",
            "RC: 780\n",
            "RI: 123\n",
            "RB: 80\n",
            "El puntaje del alumno es:  2217\n"
          ]
        }
      ],
      "source": [
        "print(\"-------------------------------------------------------------------------------------------------------------------\")\n",
        "print(\"----------------PROGRAMA QUE CALCULA LAS RESPUESTAS CORRECTAS, INCORRECTAS Y EN BLANCO DEL ALUMNO------------------\")\n",
        "print(\"-------------------------------------------------------------------------------------------------------------------\")\n",
        "\n",
        "#Datos de entrada\n",
        "print(\"Ingrese las respuestas correctas, incorrectas y en blanco del alumno\")\n",
        "RC=int(input (\"RC: \"))\n",
        "RI=int(input (\"RI: \"))\n",
        "RB=int(input (\"RB: \"))\n",
        "\n",
        "#Proceso\n",
        "Puntaje=(RC*3)+(RI*-1)+(RB*0)\n",
        "\n",
        "#Salida\n",
        "print(\"El puntaje del alumno es: \", Puntaje)\n",
        "\n"
      ]
    },
    {
      "cell_type": "code",
      "execution_count": 13,
      "metadata": {
        "colab": {
          "base_uri": "https://localhost:8080/"
        },
        "outputId": "1574a55e-6327-48d6-9a87-1e29c8b6fbea",
        "id": "mohqcAdVZORt"
      },
      "outputs": [
        {
          "output_type": "stream",
          "name": "stdout",
          "text": [
            "-------------------------------------------------------------------------------\n",
            "----------------PROGRAMA QUE CALCULA LA DISTANCIA ENTRE A Y B------------------\n",
            "-------------------------------------------------------------------------------\n",
            "Ingrese los puntos A y B cuadrante postivo del plano cartesiano\n",
            "Ax: 3\n",
            "Bx: 8\n",
            "Ay: 1\n",
            "By: 7\n",
            "La distancia entre A y B es:  7.810249675906654\n"
          ]
        }
      ],
      "source": [
        "print(\"-------------------------------------------------------------------------------\")\n",
        "print(\"----------------PROGRAMA QUE CALCULA LA DISTANCIA ENTRE A Y B------------------\")\n",
        "print(\"-------------------------------------------------------------------------------\")\n",
        "\n",
        "#Datos de entrada\n",
        "print(\"Ingrese los puntos A y B cuadrante postivo del plano cartesiano\")\n",
        "Ax=int(input (\"Ax: \"))\n",
        "Bx=int(input (\"Bx: \"))\n",
        "Ay=int(input (\"Ay: \"))\n",
        "By=int(input (\"By: \"))\n",
        "\n",
        "#Proceso\n",
        "Distancia= (((Ax- Bx)**2) + ((Ay - By)**2))**0.5\n",
        "\n",
        "#Salida\n",
        "print(\"La distancia entre A y B es: \", Distancia)\n",
        "\n",
        "\n"
      ]
    },
    {
      "cell_type": "code",
      "source": [
        "import matplotlib.pyplot as plt\n",
        "import numpy as np\n",
        "%matplotlib inline\n",
        "\n",
        "plt.plot ([3, 8], [1, 7])\n",
        "plt.text (6.5, 4, \"distancia es 7.8102\", color=\"purple\")\n",
        "plt.show()\n"
      ],
      "metadata": {
        "colab": {
          "base_uri": "https://localhost:8080/",
          "height": 430
        },
        "id": "mQzIXTzlfAQN",
        "outputId": "7f43600d-6600-4c85-eec9-b3a2d965b3f0"
      },
      "execution_count": 52,
      "outputs": [
        {
          "output_type": "display_data",
          "data": {
            "text/plain": [
              "<Figure size 640x480 with 1 Axes>"
            ],
            "image/png": "[encoded data removed]"
          },
          "metadata": {}
        }
      ]
    },
    {
      "cell_type": "markdown",
      "source": [
        "##Ejercicio 2\n",
        "\n",
        "Se requiere obtener el promedio simple de un estudiante a partir de sus tres calificaciones parciales N1, N2 y N3\n",
        "\n",
        "Se requiere elaborar un programa que solicita el número de respuestas correctas, incorrectas y en blanco correspondientes a alumnos, y muestre un puntaje final considerando que por cada respuesta corerecta tendrá 3 puntos, respuestas incorrectas -1 y respuestas en blanco 0.\n",
        "\n",
        "Se tienen los puntos A y B cuadrante positivo del plano cartesiano, elabora el programa que permita obtener la distancia entre A y B.\n",
        "\n",
        "D= √(Ax- Bx)^2 + (Ay - By)^2"
      ],
      "metadata": {
        "id": "6P0yf9RcQROh"
      }
    }
  ]
}