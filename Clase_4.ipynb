{
  "nbformat": 4,
  "nbformat_minor": 0,
  "metadata": {
    "colab": {
      "provenance": [],
      "authorship_tag": "ABX9TyMIzXZAPCYMAvQqad36Jm54",
      "include_colab_link": true
    },
    "kernelspec": {
      "name": "python3",
      "display_name": "Python 3"
    },
    "language_info": {
      "name": "python"
    }
  },
  "cells": [
    {
      "cell_type": "markdown",
      "metadata": {
        "id": "view-in-github",
        "colab_type": "text"
      },
      "source": [
        "<a href=\"https://colab.research.google.com/github/V4L3DIAZ/Clase-Programaci-n-IENR/blob/main/Clase_4.ipynb\" target=\"_parent\"><img src=\"https://colab.research.google.com/assets/colab-badge.svg\" alt=\"Open In Colab\"/></a>"
      ]
    },
    {
      "cell_type": "code",
      "execution_count": null,
      "metadata": {
        "id": "oQv6kmdkIwcI"
      },
      "outputs": [],
      "source": [
        "##Operaciones Combiandas y lógica operacional\n",
        "**a) Operaciones aritméticas**\n",
        "\n",
        "Los operadores son:\n",
        "* -> Suma                 Div: división entera\n",
        "- -> Resta                Mod: resto de división entera\n",
        "* -> Multiplicación       ^: Potencia (También se usa para raíz)\n",
        "/ -> División\n",
        "\n",
        "a) 6 * 5^3 /5 div 3\n",
        "b) 4 * 2 * (160 mod 3^3) div 5 * 13 - 28\n"
      ]
    },
    {
      "cell_type": "markdown",
      "source": [
        "  Operaciones combinadas y lógica operacional\n",
        "\n",
        "  a) Operaciones aritméticas\n",
        "  Los operadores son:\n",
        "* -> Suma                 Div: división entera\n",
        "- -> Resta                Mod: resto de división entera\n",
        "* -> Multiplicación       ^: Potencia (También se usa para raíz)\n",
        "/ -> División\n",
        "\n",
        "a) 6 * 5^3 /5 div 3\n",
        "b) 4 * 2 * (160 mod 3^3) div 5 * 13 - 28"
      ],
      "metadata": {
        "id": "paCZH_CtIziJ"
      }
    }
  ]
}