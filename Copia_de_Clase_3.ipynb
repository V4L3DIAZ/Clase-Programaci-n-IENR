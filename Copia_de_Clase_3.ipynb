{
  "nbformat": 4,
  "nbformat_minor": 0,
  "metadata": {
    "colab": {
      "provenance": [],
      "authorship_tag": "ABX9TyNg6sZeEAW3u1gYghF4HT0y",
      "include_colab_link": true
    },
    "kernelspec": {
      "name": "python3",
      "display_name": "Python 3"
    },
    "language_info": {
      "name": "python"
    }
  },
  "cells": [
    {
      "cell_type": "markdown",
      "metadata": {
        "id": "view-in-github",
        "colab_type": "text"
      },
      "source": [
        "<a href=\"https://colab.research.google.com/github/V4L3DIAZ/Clase-Programaci-n-IENR/blob/main/Copia_de_Clase_3.ipynb\" target=\"_parent\"><img src=\"https://colab.research.google.com/assets/colab-badge.svg\" alt=\"Open In Colab\"/></a>"
      ]
    },
    {
      "cell_type": "code",
      "execution_count": 8,
      "metadata": {
        "colab": {
          "base_uri": "https://localhost:8080/"
        },
        "id": "jU6TeeH1B1Zn",
        "outputId": "4a8679a6-311f-4b87-f66c-db1595ce8cbb"
      },
      "outputs": [
        {
          "output_type": "stream",
          "name": "stdout",
          "text": [
            "21\n",
            "3.1416\n",
            "10\n",
            "11\n",
            "3.1416\n",
            "True\n",
            "False\n",
            "1\n",
            "0\n",
            "Hola Mundo\n",
            "Juan\n",
            "a\n",
            "b\n"
          ]
        }
      ],
      "source": [
        "#tipos de Variable en Python\n",
        "#El tipo de variable estará determinado por el tipo de dato que almacena\n",
        "#Enteros: vasta agregar un valor entero\n",
        "\n",
        "a=10\n",
        "b=11\n",
        "c=a+b\n",
        "print (c)\n",
        "\n",
        "#Decimales: deben agregarse un número con punto flotante\n",
        "c=3.1416\n",
        "print(c)\n",
        "\n",
        "#Booleanos: Datos con verdadero y false\n",
        "#Se pueden usar palabras: True y False\n",
        "\n",
        "verdad = True\n",
        "falso = False\n",
        "\n",
        "Verdad = 1\n",
        "Falso = 0\n",
        "\n",
        "#Texto o Cadena o String\n",
        "saludo = \"Hola Mundo\"\n",
        "nombre =  \"Juan\"\n",
        "\n",
        "uno = 'a'\n",
        "dos = 'b'\n",
        "\n",
        "print(a)\n",
        "print(b)\n",
        "print(c)\n",
        "print(verdad)\n",
        "print(falso)\n",
        "print(Verdad)\n",
        "print(Falso)\n",
        "print(saludo)\n",
        "print(nombre)\n",
        "print(uno)\n",
        "print(dos)"
      ]
    },
    {
      "cell_type": "markdown",
      "source": [
        "**Lenguaje y Algoritmo**\n",
        "\n",
        "Lenguaje de programación:\n",
        "\n",
        "* C\n",
        "* C++\n",
        "* Java\n",
        "* Fortran\n",
        "* Delphi\n",
        "\n",
        "**Algoritmo**\n",
        "Conjunto de pasos, procedimientos o acciones que nos permiten alcanzar un resultado o resolver un problema.\n",
        "\n",
        "Características:\n",
        "\n",
        "Deterministmo.\n",
        "Precisión.\n",
        "Finitud.\n",
        "\n",
        "(Cairó et al., 1993)\n",
        "\n",
        "**Datos Numéricos**\n",
        "\n",
        "Valores enteros y Valores reales.\n",
        "Valores enteros pueden estar precedidos por los signos (+ -)\n",
        "\n",
        "128 152s -714 8 530 -14 789\n",
        "7.5 128.0 -37.865 129.7 16 000.50\n",
        "\n",
        "**Datos Alfanuméricos**\n",
        "*Caracter\n",
        "*Cadena\n",
        "\n",
        "(a, b, c... z)\n",
        "(0, 1, 2, 3... 9)\n",
        "( #, $, ?, %, *, etc)\n",
        "\n",
        "'a' 'B' '$' '9'\n",
        "\n",
        "\"abc\" \"&9#7\" \"Heeeectoooor\" \"Patrocolo!!\" \"754-27-22\"\n",
        "\n",
        "**Datos Lógicos**\n",
        "Booleanos.\n",
        "Verdadero (true).\n",
        "Falso (false).\n"
      ],
      "metadata": {
        "id": "GQsW6rGrCcwZ"
      }
    }
  ]
}