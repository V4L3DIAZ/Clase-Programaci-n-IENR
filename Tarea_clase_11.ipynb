{
  "nbformat": 4,
  "nbformat_minor": 0,
  "metadata": {
    "colab": {
      "provenance": [],
      "authorship_tag": "ABX9TyPyWUDElvN2w5B5L+Z0q9rH",
      "include_colab_link": true
    },
    "kernelspec": {
      "name": "python3",
      "display_name": "Python 3"
    },
    "language_info": {
      "name": "python"
    }
  },
  "cells": [
    {
      "cell_type": "markdown",
      "metadata": {
        "id": "view-in-github",
        "colab_type": "text"
      },
      "source": [
        "<a href=\"https://colab.research.google.com/github/V4L3DIAZ/Clase-Programaci-n-IENR/blob/main/Tarea_clase_11.ipynb\" target=\"_parent\"><img src=\"https://colab.research.google.com/assets/colab-badge.svg\" alt=\"Open In Colab\"/></a>"
      ]
    },
    {
      "cell_type": "markdown",
      "source": [
        "##01: Escribe un prorgrama que pida 5 números enteros al usuario y muestre como resultado el valor mínimo, el valor máximo y el promedio:"
      ],
      "metadata": {
        "id": "S383MjdTcrTP"
      }
    },
    {
      "cell_type": "code",
      "execution_count": null,
      "metadata": {
        "colab": {
          "base_uri": "https://localhost:8080/"
        },
        "id": "SXWgBy7jcgTT",
        "outputId": "977e5da4-de03-46a6-f925-1a4bdf92a6e2"
      },
      "outputs": [
        {
          "output_type": "stream",
          "name": "stdout",
          "text": [
            "-------------------------------------\n",
            "-----PROGRAMA DE NÚMEROS ENTEROS-----\n",
            "-------------------------------------\n",
            "Ingrese 5 números enteros: \n",
            "Número 1: 6\n",
            "Número 2: 8\n",
            "Número 3: 2\n",
            "Número 4: 4\n",
            "Número 5: 10\n",
            "El valor mínimo es:  6\n",
            "El valor máximo es:  10\n",
            "El promedio es:  6.0\n"
          ]
        }
      ],
      "source": [
        "print(\"-------------------------------------\")\n",
        "print(\"-----PROGRAMA DE NÚMEROS ENTEROS-----\")\n",
        "print(\"-------------------------------------\")\n",
        "\n",
        "#Datos de entrada\n",
        "print(\"Ingrese 5 números enteros: \")\n",
        "NE1=int(input(\"Número 1: \"))\n",
        "NE2=int(input(\"Número 2: \"))\n",
        "NE3=int(input(\"Número 3: \"))\n",
        "NE4=int(input(\"Número 4: \"))\n",
        "NE5=int(input(\"Número 5: \"))\n",
        "\n",
        "#Proceso\n",
        "VMIN= NE1\n",
        "VMAX= NE5\n",
        "PROMEDIO= (NE1+NE2+NE3+NE4+NE5)/5\n",
        "\n",
        "#Datos de salida\n",
        "print(\"El valor mínimo es: \", VMIN)\n",
        "print(\"El valor máximo es: \", VMAX)\n",
        "print(\"El promedio es: \", PROMEDIO)"
      ]
    },
    {
      "cell_type": "markdown",
      "source": [
        "##02: Escribe un programa que pida un número entero comprendido entre 0 y 9 y muestre su tabla de multiplicar hasta el 15:"
      ],
      "metadata": {
        "id": "DbnlAYtYeWww"
      }
    },
    {
      "cell_type": "code",
      "source": [
        "print(\"------------------------------------------------------\")\n",
        "print(\"-----PROGRAMA DE TABLA DE MULTIPLICAR HASTA EL 15-----\")\n",
        "print(\"------------------------------------------------------\")\n",
        "\n",
        "#Datos de entrada\n",
        "print(\"Ingrese un número del 0 al 9: \")\n",
        "N=int(input(\"Número: \"))\n",
        "\n",
        "#Proceso\n",
        "TDM=(N*1), (N*2), (N*3), (N*4), (N*5), (N*6), (N*7), (N*8), (N*9), (N*10), (N*11), (N*12), (N*13), (N*14), (N*15)\n",
        "\n",
        "#Datos de salida\n",
        "print(\"La tabla de multiplicar hasta el 15 es: \")\n",
        "print(\"Nx1: \", N*1)\n",
        "print(\"Nx2: \", N*2)\n",
        "print(\"Nx3: \", N*3)\n",
        "print(\"Nx4: \", N*4)\n",
        "print(\"Nx5: \", N*5)\n",
        "print(\"Nx6: \", N*6)\n",
        "print(\"Nx7: \", N*7)\n",
        "print(\"Nx8: \", N*8)\n",
        "print(\"Nx9: \", N*9)\n",
        "print(\"Nx10: \", N*10)\n",
        "print(\"Nx11: \", N*11)\n",
        "print(\"Nx12: \", N*12)\n",
        "print(\"Nx13: \", N*13)\n",
        "print(\"Nx14: \", N*14)\n",
        "print(\"Nx15: \", N*15)"
      ],
      "metadata": {
        "colab": {
          "base_uri": "https://localhost:8080/"
        },
        "id": "XObET7GgeibX",
        "outputId": "303d4ee5-7437-4ec6-8a4b-2872be088f5d"
      },
      "execution_count": null,
      "outputs": [
        {
          "output_type": "stream",
          "name": "stdout",
          "text": [
            "------------------------------------------------------\n",
            "-----PROGRAMA DE TABLA DE MULTIPLICAR HASTA EL 15-----\n",
            "------------------------------------------------------\n",
            "Ingrese un número del 0 al 9: \n",
            "Número: 5\n",
            "La tabla de multiplicar hasta el 15 es: \n",
            "Nx1:  5\n",
            "Nx2:  10\n",
            "Nx3:  15\n",
            "Nx4:  20\n",
            "Nx5:  25\n",
            "Nx6:  30\n",
            "Nx7:  35\n",
            "Nx8:  40\n",
            "Nx9:  45\n",
            "Nx10:  50\n",
            "Nx11:  55\n",
            "Nx12:  60\n",
            "Nx13:  65\n",
            "Nx14:  70\n",
            "Nx15:  75\n"
          ]
        }
      ]
    },
    {
      "cell_type": "markdown",
      "source": [
        "##03: Diseña un programa que calcule la varianza de 5 números:"
      ],
      "metadata": {
        "id": "OA7ThdUFij5R"
      }
    },
    {
      "cell_type": "code",
      "source": [
        "print(\"-------------------------------------------------\")\n",
        "print(\"--------PROGRAMA PARA CALCULAR LA VARIANZA-------\")\n",
        "print(\"-------------------------------------------------\")\n",
        "\n",
        "#Datos de entrada\n",
        "print(\"Ingrese 5 números: \")\n",
        "N1=int(input(\"Número 1: \"))\n",
        "N2=int(input(\"Número 2: \"))\n",
        "N3=int(input(\"Número 3: \"))\n",
        "N4=int(input(\"Número 4: \"))\n",
        "N5=int(input(\"Número 5: \"))\n",
        "\n",
        "#Proceso\n",
        "M=(N1 + N2 + N3 + N4 + N5)/5\n",
        "N1=M - N1\n",
        "N2=M - N2\n",
        "N3=M - N3\n",
        "N4=M - N4\n",
        "N5=M - N5\n",
        "M - N1== N1**2\n",
        "M - N2== N2**2\n",
        "M - N3== N3**2\n",
        "M - N4== N4**2\n",
        "M - N5== N5**2\n",
        "V= (N1**2) + (N2**2) + (N3**2) + (N4**2) + (N5**2)/5\n",
        "\n",
        "#Datos de salida\n",
        "print(\"La varianza de los 5 números es: \")\n",
        "print(\"Varianza: \", V)"
      ],
      "metadata": {
        "id": "sP1XcKFrhEOn",
        "colab": {
          "base_uri": "https://localhost:8080/"
        },
        "outputId": "d9bcf5e4-a2ad-4a8c-8c66-4f31f84be6d7"
      },
      "execution_count": 20,
      "outputs": [
        {
          "output_type": "stream",
          "name": "stdout",
          "text": [
            "-------------------------------------------------\n",
            "--------PROGRAMA PARA CALCULAR LA VARIANZA-------\n",
            "-------------------------------------------------\n",
            "Ingrese 5 números: \n",
            "Número 1: 2\n",
            "Número 2: 4\n",
            "Número 3: 6\n",
            "Número 4: 8\n",
            "Número 5: 10\n",
            "La varianza de los 5 números es: \n",
            "Varianza:  27.2\n"
          ]
        }
      ]
    },
    {
      "cell_type": "markdown",
      "source": [
        "##04: Traduce las siguientes expresiones matemáticas en Python y evalúalas. Trata de utilizar el menos número de paréntesis posible:"
      ],
      "metadata": {
        "id": "YuVu0x86m3eu"
      }
    },
    {
      "cell_type": "code",
      "source": [
        "print(\"OPERACIONES MATEMÁTICAS\")\n",
        "\n",
        "#Datos de entrada\n",
        "print(\"Operaciones matemáticas: \")\n",
        "print(\"A: 2+(3*(6/2))\")\n",
        "A=2+(3*(6/2))\n",
        "print(\"B: (4+6)/(2+3)\")\n",
        "B=(4+6)/(2+3)\n",
        "print(\"C: (4/2)**5\")\n",
        "C=(4/2)**5\n",
        "print(\"D: (4/2)**(5+1)\")\n",
        "D=(4/2)**(5+1)\n",
        "print(\"E: (-3)**2\")\n",
        "E=(-3)**2\n",
        "print(\"F: -(3**2)\")\n",
        "F=-(3**2)\n",
        "\n",
        "#Proceso\n",
        "A=2+(3*(6/2))\n",
        "B=(4+6)/(2+3)\n",
        "C=(4/2)**5\n",
        "D=(4/2)**(5+1)\n",
        "E=(-3)**2\n",
        "F=-(3**2)\n",
        "\n",
        "#Datos de salida\n",
        "print(\"Los resultados de las operaciones son: \")\n",
        "print(\"A: \", A)\n",
        "print(\"B: \", B)\n",
        "print(\"C: \", C)\n",
        "print(\"D: \", D)\n",
        "print(\"E: \", E)\n",
        "print(\"F: \", F)\n"
      ],
      "metadata": {
        "id": "airbK_-JokDP",
        "colab": {
          "base_uri": "https://localhost:8080/"
        },
        "outputId": "fb838fd3-2535-497b-a8fc-a9334e726814"
      },
      "execution_count": 12,
      "outputs": [
        {
          "output_type": "stream",
          "name": "stdout",
          "text": [
            "OPERACIONES MATEMÁTICAS\n",
            "Operaciones matemáticas: \n",
            "A: 2+(3*(6/2))\n",
            "B: (4+6)/(2+3)\n",
            "C: (4/2)**5\n",
            "D: (4/2)**(5+1)\n",
            "E: (-3)**2\n",
            "F: -(3**2)\n",
            "Los resultados de las operaciones son: \n",
            "A:  11.0\n",
            "B:  2.0\n",
            "C:  32.0\n",
            "D:  64.0\n",
            "E:  9\n",
            "F:  -9\n"
          ]
        }
      ]
    },
    {
      "cell_type": "markdown",
      "source": [
        "##05: Escribe un programa que evalúe el polinomio\n",
        "##x^4+x^3+x^2-x en x=1.1"
      ],
      "metadata": {
        "id": "FMcqB3ZS_aKw"
      }
    },
    {
      "cell_type": "code",
      "source": [
        "print(\"-----------------------------------------------------\")\n",
        "print(\"----------PROGRAMA PARA EVALÚAR POLINOMIOS-----------\")\n",
        "print(\"-----------------------------------------------------\")\n",
        "\n",
        "#Datos de entrada\n",
        "print(\"Evaluación del polinomio: \")\n",
        "print(\"x**4 + x**3 + x**2 - x: \")\n",
        "x=1.1\n",
        "P=(x)**4 + (x)**3 + (x)**2 - (x)\n",
        "\n",
        "\n",
        "#Proceso\n",
        "P=(x)**4 + (x)**3 + (x)**2 - (x)\n",
        "\n",
        "#Datos de salida\n",
        "print(\"El resultado del polinomio es: \")\n",
        "print(\"P: \", P)\n"
      ],
      "metadata": {
        "colab": {
          "base_uri": "https://localhost:8080/"
        },
        "outputId": "d36960e5-6f47-4f4e-a81c-e02fa29cfad7",
        "id": "nN72nzjv8CzB"
      },
      "execution_count": 16,
      "outputs": [
        {
          "output_type": "stream",
          "name": "stdout",
          "text": [
            "-----------------------------------------------------\n",
            "----------PROGRAMA PARA EVALÚAR POLINOMIOS-----------\n",
            "-----------------------------------------------------\n",
            "Evaluación del polinomio: \n",
            "x**4 + x**3 + x**2 - x: \n",
            "El resultado del polinomio es: \n",
            "P:  2.9051000000000005\n"
          ]
        }
      ]
    }
  ]
}