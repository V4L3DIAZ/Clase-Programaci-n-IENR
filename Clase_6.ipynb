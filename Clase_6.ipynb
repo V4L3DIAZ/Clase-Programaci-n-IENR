{
  "nbformat": 4,
  "nbformat_minor": 0,
  "metadata": {
    "colab": {
      "provenance": [],
      "authorship_tag": "ABX9TyPVZkJTvvYjs0cf/3QouNTC",
      "include_colab_link": true
    },
    "kernelspec": {
      "name": "python3",
      "display_name": "Python 3"
    },
    "language_info": {
      "name": "python"
    }
  },
  "cells": [
    {
      "cell_type": "markdown",
      "metadata": {
        "id": "view-in-github",
        "colab_type": "text"
      },
      "source": [
        "<a href=\"https://colab.research.google.com/github/V4L3DIAZ/Clase-Programaci-n-IENR/blob/main/Clase_6.ipynb\" target=\"_parent\"><img src=\"https://colab.research.google.com/assets/colab-badge.svg\" alt=\"Open In Colab\"/></a>"
      ]
    },
    {
      "cell_type": "code",
      "execution_count": 12,
      "metadata": {
        "colab": {
          "base_uri": "https://localhost:8080/"
        },
        "id": "6r-7EeTTI-x8",
        "outputId": "5d8c6e4c-e686-4cc8-915a-791c51489607"
      },
      "outputs": [
        {
          "output_type": "stream",
          "name": "stdout",
          "text": [
            "m/s50\n",
            "s25\n",
            "m\n",
            "\n",
            "La distancia recorrida es: d\n",
            "1250\n"
          ]
        }
      ],
      "source": [
        "constante=input(\"m/s\")\n",
        "tiempo=input(\"s\")\n",
        "distancia_recorrida=input(\"m\")\n",
        "#distancia recorridad=velocidad constante * tiempo\n",
        "print(distancia_recorrida)\n",
        "\n",
        "#Definir variables:\n",
        "v = 50\n",
        "t = 25\n",
        "\n",
        "#Calcular distancia:\n",
        "d = v * t\n",
        "\n",
        "#Imprimir resultado:\n",
        "print(\"La distancia recorrida es: d\")\n",
        "print (d)"
      ]
    },
    {
      "cell_type": "markdown",
      "source": [
        "##Ejercicio:\n",
        "\n",
        "Se desea calcular la distancia recorrida (m) por un auto que tiene que tiene una velocidad constante (m/s) durante un tiempo t(s). Considerar que es un Movimiento Rectilineo Uniforme.\n",
        "\n",
        "##Datos:\n",
        "velocidad constante=input(m/s)\n",
        "tiempo=input(s)\n",
        "\n",
        "distancia recorrida=input(m)\n",
        "\n"
      ],
      "metadata": {
        "id": "5NdltpKyJB77"
      }
    },
    {
      "cell_type": "code",
      "source": [],
      "metadata": {
        "id": "uoQbBsjJNHhy"
      },
      "execution_count": null,
      "outputs": []
    }
  ]
}