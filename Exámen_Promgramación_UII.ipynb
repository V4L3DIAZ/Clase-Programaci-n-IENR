{
  "nbformat": 4,
  "nbformat_minor": 0,
  "metadata": {
    "colab": {
      "provenance": [],
      "authorship_tag": "ABX9TyPec1IIvl+Vu92t9i48qdQx",
      "include_colab_link": true
    },
    "kernelspec": {
      "name": "python3",
      "display_name": "Python 3"
    },
    "language_info": {
      "name": "python"
    }
  },
  "cells": [
    {
      "cell_type": "markdown",
      "metadata": {
        "id": "view-in-github",
        "colab_type": "text"
      },
      "source": [
        "<a href=\"https://colab.research.google.com/github/V4L3DIAZ/Clase-Programaci-n-IENR/blob/main/Ex%C3%A1men_Promgramaci%C3%B3n_UII.ipynb\" target=\"_parent\"><img src=\"https://colab.research.google.com/assets/colab-badge.svg\" alt=\"Open In Colab\"/></a>"
      ]
    },
    {
      "cell_type": "code",
      "execution_count": null,
      "metadata": {
        "id": "W6sQhMMmPR4h"
      },
      "outputs": [],
      "source": []
    },
    {
      "cell_type": "markdown",
      "source": [
        "##1: Elaborar un programa que permita calcular el número de discos 3.5 necesarios para hacer una copia de seguridad, de la información almacenada en un disco cuya capacidad se conoce. Hay que considerar que el disco duro está lleno de información, además expresado en gigabyte. Un micro disco tiene 1.44 megabyte y un gigabyte es igual a 1,024 megabyte. (30%)\n"
      ],
      "metadata": {
        "id": "S5EDPxeKYTj-"
      }
    },
    {
      "cell_type": "code",
      "source": [
        "print(\"------------------------------------------------------------------------------\")\n",
        "print(\"-----------PROGRAMA PARA CALCULAR NÚMERO DE DISCOS NECESARIOS-----------------\")\n",
        "print(\"------------------------------------------------------------------------------\")\n",
        "\n",
        "#Datos de entrada\n",
        "print(\"Ingresesar los GB a calcular\")\n",
        "GB=float ( input(1024))\n",
        "MD=int ( input(1.44))\n",
        "\n",
        "#Proceso\n",
        "discos= MD*GB/GB\n",
        "\n",
        "#Salida\n",
        "print(\"El número de discos necesarios son:\")\n",
        "\n",
        "\n"
      ],
      "metadata": {
        "colab": {
          "base_uri": "https://localhost:8080/"
        },
        "id": "AQC_ZFHYZN9O",
        "outputId": "c9a892af-9554-4a37-f1e3-7b162f87e659"
      },
      "execution_count": 13,
      "outputs": [
        {
          "output_type": "stream",
          "name": "stdout",
          "text": [
            "------------------------------------------------------------------------------\n",
            "-----------PROGRAMA PARA CALCULAR NÚMERO DE DISCOS NECESARIOS-----------------\n",
            "------------------------------------------------------------------------------\n",
            "Ingresesar los GB a calcular\n",
            "10243.5\n",
            "1.441024\n",
            "El número de discos necesarios son:\n"
          ]
        }
      ]
    },
    {
      "cell_type": "markdown",
      "source": [
        "##2: Si conoce la longitud de dos de los lados de un triángulo (b y c) y el ángulo entre ellos (alfa), expresado en grados sexagesimales, la longitud del tercer lado (a) se calcula por la fórmula:\n",
        "\n",
        "##a2= b2 + c2 - 2bc*cos(alfa) (30%)\n",
        "\n",
        "##El ángulo \"alfa\" está dado en grados sexagesimales, para el cálculo del lado (a) se tiene que pasar \"alfa\" a radianes transformando se tiene \"alfa*Pi/180\"\n",
        "\n"
      ],
      "metadata": {
        "id": "XlV9TB9SdowY"
      }
    },
    {
      "cell_type": "code",
      "source": [
        "print(\"------------------------------------------------------------------------------\")\n",
        "print(\"-----------PROGRAMA OARA CALCULAR EL LADO A DE UN TRIANGULO-------------------\")\n",
        "print(\"------------------------------------------------------------------------------\")\n",
        "\n",
        "#Datos de entrada\n",
        "b = int (input(\"7\"))\n",
        "c = int (input(\"4\"))\n",
        "a = int (input(\"alfa*Pi/180\"))\n",
        "\n",
        "#Proceso\n",
        "calcular el lado a = b**2 + c**2 - 2*b*c*math.cos(a)\n",
        "\n",
        "#Salida\n",
        "print(\"El lado a es:\")\n"
      ],
      "metadata": {
        "colab": {
          "base_uri": "https://localhost:8080/",
          "height": 106
        },
        "collapsed": true,
        "id": "mUx-16g2eoKo",
        "outputId": "5779bb77-97cc-4fbd-895f-192dad303562"
      },
      "execution_count": 22,
      "outputs": [
        {
          "output_type": "error",
          "ename": "SyntaxError",
          "evalue": "invalid syntax (<ipython-input-22-cf0863f80897>, line 11)",
          "traceback": [
            "\u001b[0;36m  File \u001b[0;32m\"<ipython-input-22-cf0863f80897>\"\u001b[0;36m, line \u001b[0;32m11\u001b[0m\n\u001b[0;31m    calcular el lado a = b**2 + c**2 - 2*b*c*math.cos(a)\u001b[0m\n\u001b[0m             ^\u001b[0m\n\u001b[0;31mSyntaxError\u001b[0m\u001b[0;31m:\u001b[0m invalid syntax\n"
          ]
        }
      ]
    }
  ]
}