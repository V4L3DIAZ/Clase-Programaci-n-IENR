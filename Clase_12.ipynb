{
  "nbformat": 4,
  "nbformat_minor": 0,
  "metadata": {
    "colab": {
      "provenance": [],
      "authorship_tag": "ABX9TyNn3kHpcAsRyII6C1zOiJWq",
      "include_colab_link": true
    },
    "kernelspec": {
      "name": "python3",
      "display_name": "Python 3"
    },
    "language_info": {
      "name": "python"
    }
  },
  "cells": [
    {
      "cell_type": "markdown",
      "metadata": {
        "id": "view-in-github",
        "colab_type": "text"
      },
      "source": [
        "<a href=\"https://colab.research.google.com/github/V4L3DIAZ/Clase-Programaci-n-IENR/blob/main/Clase_12.ipynb\" target=\"_parent\"><img src=\"https://colab.research.google.com/assets/colab-badge.svg\" alt=\"Open In Colab\"/></a>"
      ]
    },
    {
      "cell_type": "markdown",
      "source": [
        "##ESTRUCTURAS SELECTIVAS\n",
        "Las estructuras selectivas también conocidas como lógicas selectivas:\n",
        "\n",
        "##Señalan un camino alternativo a seguir:\n",
        "-Simples\n",
        "-Doble\n",
        "-Triple\n",
        "\n",
        "##Estructura simple:\n",
        "Sí <condición> entonces: <operaciones o acciones>.. fin si\n",
        "\n"
      ],
      "metadata": {
        "id": "GFsNMK5Pa6Yd"
      }
    },
    {
      "cell_type": "code",
      "source": [
        "print(\"Ejemplo de Condición Simple\")\n",
        "print(\"Ingrese un número: \")\n",
        "x=int(input())\n",
        "if x<100:\n",
        "  print(\"El número es menor a 100\")\n"
      ],
      "metadata": {
        "colab": {
          "base_uri": "https://localhost:8080/"
        },
        "id": "O-hwp-Sqbt9c",
        "outputId": "564cbc2f-58ad-4697-a595-8b15d3e2a017"
      },
      "execution_count": 4,
      "outputs": [
        {
          "output_type": "stream",
          "name": "stdout",
          "text": [
            "Ejemplo de Condición Simple\n",
            "Ingrese un número: \n",
            "37\n",
            "El número es menor a 100\n"
          ]
        }
      ]
    },
    {
      "cell_type": "markdown",
      "source": [
        "##Estructura Selectiva Doble\n",
        "si <condición> entonces <acciones tipo 1> si no <acciones tipo 2>  fin si"
      ],
      "metadata": {
        "id": "Zsf72_abceNX"
      }
    },
    {
      "cell_type": "code",
      "source": [
        "print(\"Ejemplo de Condicional Doble\")\n",
        "print(\"Ingrese 2 números: \")\n",
        "x=int(input(\"Pirmer número: \"))\n",
        "y=int(input(\"Segundo número: \"))\n",
        "if x>y:\n",
        "  print(\"El menor es: \", y)\n",
        "else:\n",
        "  print(\"El menor es: \", x)\n",
        "\n"
      ],
      "metadata": {
        "colab": {
          "base_uri": "https://localhost:8080/"
        },
        "id": "1UpZNPT8ctYU",
        "outputId": "2c99f7a3-f2ce-4c45-ee23-b47f8c0b78a2"
      },
      "execution_count": 6,
      "outputs": [
        {
          "output_type": "stream",
          "name": "stdout",
          "text": [
            "Ejemplo de Condicional Doble\n",
            "Ingrese 2 números: \n",
            "Pirmer número: 3\n",
            "Segundo número: 8\n",
            "El menor es:  3\n"
          ]
        }
      ]
    },
    {
      "cell_type": "markdown",
      "source": [
        "##Estrucutura Selectiva Múltiple\n",
        "\n",
        "si <selector> igual <valor1: <operación 1>, <valor 2: <operación 2>\n",
        "...\n",
        "...\n",
        "[<En otro caso>:<operación n+1>]\n",
        "fin selector"
      ],
      "metadata": {
        "id": "kh5d9gsseY2c"
      }
    },
    {
      "cell_type": "code",
      "source": [
        "print(\"Ejemplo de Condicional Múltiple\")\n",
        "\n",
        "switcher = {\n",
        "    1: \"Enero\",\n",
        "    2: \"Febrebro\",\n",
        "    3: \"Marzo\",\n",
        "    4: \"Abril\",\n",
        "    5: \"Mayo\",\n",
        "    6: \"Junio\",\n",
        "    7: \"Julio\",\n",
        "    8: \"Agosto\",\n",
        "    9: \"Septiembre\",\n",
        "    10: \"Octubre\",\n",
        "    11: \"Noviembre\",\n",
        "    12: \"Diciembre\"\n",
        "}\n",
        "argument = int(input(\"Ingrese un número de mes a mostrar: \"))\n",
        "nombreMes = switcher.get (argument, \"Mes inválido\")\n",
        "print(nombreMes)\n",
        "input(\"Presione una tecla para salir\")"
      ],
      "metadata": {
        "colab": {
          "base_uri": "https://localhost:8080/",
          "height": 105
        },
        "id": "t49_46loe7ND",
        "outputId": "1d9d120b-f48b-4b79-87fd-0a8f0d0c8919"
      },
      "execution_count": 7,
      "outputs": [
        {
          "name": "stdout",
          "output_type": "stream",
          "text": [
            "Ejemplo de Condicional Múltiple\n",
            "Ingrese un número de mes a mostrar: 8\n",
            "Agosto\n",
            "Presione una tecla para salir\n"
          ]
        },
        {
          "output_type": "execute_result",
          "data": {
            "text/plain": [
              "''"
            ],
            "application/vnd.google.colaboratory.intrinsic+json": {
              "type": "string"
            }
          },
          "metadata": {},
          "execution_count": 7
        }
      ]
    },
    {
      "cell_type": "markdown",
      "source": [
        "##Escribir un programa que dado el sueldo de un trabajador, aplique un aumentado de 15% si este es inferior a $10,000. Imprima el sueldo total que percibirá."
      ],
      "metadata": {
        "id": "GqqjiaM-hHKj"
      }
    },
    {
      "cell_type": "code",
      "source": [
        "print(\"Programa de sueldo total\")\n",
        "print(\"Ingrese el sueldo: \")\n",
        "s=float(input())\n",
        "if S < 10000:\n",
        "  a=s*0.15\n",
        "  s=s+a\n",
        "  print(\"El sueldo es: \", s)\n"
      ],
      "metadata": {
        "colab": {
          "base_uri": "https://localhost:8080/"
        },
        "outputId": "e8b736bf-91f6-4f84-d21d-226e05c106ea",
        "id": "KJp_KR7KhoN4"
      },
      "execution_count": 11,
      "outputs": [
        {
          "output_type": "stream",
          "name": "stdout",
          "text": [
            "Programa de sueldo total\n",
            "Ingrese el sueldo: \n",
            "5000\n",
            "El sueldo es:  5750.0\n"
          ]
        }
      ]
    },
    {
      "cell_type": "markdown",
      "source": [
        "##Escribir un programa que determine si un año leído desde el teclado es o no bisiesto."
      ],
      "metadata": {
        "id": "qSxyUinTjbfi"
      }
    },
    {
      "cell_type": "code",
      "source": [
        "print(\"Verificar año bisiesto\")\n",
        "a=int(input(\"Ingresa el año a verificar: \"))\n",
        "if (a%400==0) or (a%400==0) and (a%100!=0):\n",
        "   print(\"El año SÍ es BISIESTO\")\n",
        "else:\n",
        "   print(\"El año NO es BISIESTO\")"
      ],
      "metadata": {
        "colab": {
          "base_uri": "https://localhost:8080/"
        },
        "id": "AfXeTUsskPDy",
        "outputId": "ae277784-4f0b-4d73-860e-77e6174c651d"
      },
      "execution_count": 20,
      "outputs": [
        {
          "output_type": "stream",
          "name": "stdout",
          "text": [
            "Verificar año bisiesto\n",
            "Ingresa el año a verificar: 2024\n",
            "El año NO es BISIESTO\n"
          ]
        }
      ]
    }
  ]
}