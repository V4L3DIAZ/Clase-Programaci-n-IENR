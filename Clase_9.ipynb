{
  "nbformat": 4,
  "nbformat_minor": 0,
  "metadata": {
    "colab": {
      "provenance": [],
      "authorship_tag": "ABX9TyMe5tXhGm7YLXwhPJUy57Ol",
      "include_colab_link": true
    },
    "kernelspec": {
      "name": "python3",
      "display_name": "Python 3"
    },
    "language_info": {
      "name": "python"
    }
  },
  "cells": [
    {
      "cell_type": "markdown",
      "metadata": {
        "id": "view-in-github",
        "colab_type": "text"
      },
      "source": [
        "<a href=\"https://colab.research.google.com/github/V4L3DIAZ/Clase-Programaci-n-IENR/blob/main/Clase_9.ipynb\" target=\"_parent\"><img src=\"https://colab.research.google.com/assets/colab-badge.svg\" alt=\"Open In Colab\"/></a>"
      ]
    },
    {
      "cell_type": "code",
      "execution_count": null,
      "metadata": {
        "id": "oPaCwXnsWFfF"
      },
      "outputs": [],
      "source": []
    },
    {
      "cell_type": "markdown",
      "source": [
        "##Elaborar un programa que permita ingresar el número de partidos ganados, perdidos y empatados del club de fútbol \"Real Bañil\" en el torneo de apertura 2024, se debe mostrar el puntaje final teneindo en cuenta que por cada partido ganado obtendrá 3 puntos, 1 por los empatados y 0 por perder."
      ],
      "metadata": {
        "id": "svbmE82jXj_-"
      }
    },
    {
      "cell_type": "code",
      "source": [
        "print(\"-----------------------------------------------------------------------\")\n",
        "print(\"--------PROGRAMA PARA CALCULAR EL PUNTAJE DEL CLUB REAL BAÑIL----------\")\n",
        "print(\"-----------------------------------------------------------------------\")\n",
        "\n",
        "#Datos de entrada\n",
        "print(\"Ingrese el total de partidos ganados: \")\n",
        "ganados = int (input(\"3\"))\n",
        "print(\"Ingrese el total de partidos perdidos: \")\n",
        "perdidos = int (input(\"1\"))\n",
        "print(\"Ingrese el total de partidos empatados: \")\n",
        "empatados = int (input(\"0\"))\n",
        "\n",
        "#Proceso\n",
        "Puntajefinal=(ganados*3) + (perdidos*1) + (empatados*0)\n",
        "\n",
        "#Datos de salida\n",
        "print(\"El puntaje final del club Real Bañil es: \",Puntajefinal)\n",
        "\n",
        "\n",
        "\n"
      ],
      "metadata": {
        "colab": {
          "base_uri": "https://localhost:8080/"
        },
        "id": "rooGemQwYQdW",
        "outputId": "55de4f6a-0a17-4e6e-c2c9-7e8ade6ae48c"
      },
      "execution_count": 6,
      "outputs": [
        {
          "output_type": "stream",
          "name": "stdout",
          "text": [
            "---------------------------------------------------------------------------------------------\n",
            "--------------------PROGRAMA PARA CALCULAR EL PUNTAJE DEL CLUB REAL BAÑIL--------------------\n",
            "---------------------------------------------------------------------------------------------\n",
            "Ingrese el total de partidos ganados: \n",
            "312\n",
            "Ingrese el total de partidos perdidos: \n",
            "13\n",
            "Ingrese el total de partidos empatados: \n",
            "05\n",
            "El puntaje final del club Real Bañil es:  39\n"
          ]
        }
      ]
    },
    {
      "cell_type": "markdown",
      "source": [
        "##Escribir un programa que dado como datos el radio y la altura de un cilindro,  calcular e imprimir el área y volumen del mismo."
      ],
      "metadata": {
        "id": "RsUhgnNPcIoi"
      }
    },
    {
      "cell_type": "code",
      "source": [
        "print(\"-----------------------------------------------------------------------\")\n",
        "print(\"--------PROGRAMA PARA CALCULAR EL VOLUMEN Y ÁREA DE UN CILINDRO--------\")\n",
        "print(\"-----------------------------------------------------------------------\")\n",
        "\n",
        "#Datos de entrada\n",
        "print(\"Ingrese el radio del cilindro: \")\n",
        "radio= float (input(\" \"))\n",
        "print(\"Ingrese la altura del cilindro: \")\n",
        "altura= int (input(\" \"))\n",
        "\n",
        "#Proceso\n",
        "area= (2) * (3.141592) * (radio) * (radio + altura)\n",
        "volumen= (3.141592) * (radio) * (radio *altura)\n",
        "\n",
        "#Datos de salida\n",
        "print(\"El área del cilindro es: \",area)\n",
        "print(\"El volumen del cilindro es: \", volumen)\n"
      ],
      "metadata": {
        "colab": {
          "base_uri": "https://localhost:8080/"
        },
        "id": "91oEhzy2c3HJ",
        "outputId": "8bc6d276-8b08-40bd-9ce4-c3df4f67efe4"
      },
      "execution_count": 9,
      "outputs": [
        {
          "output_type": "stream",
          "name": "stdout",
          "text": [
            "-----------------------------------------------------------------------------------------------\n",
            "--------------------PROGRAMA PARA CALCULAR EL VOLUMEN Y ÁREA DE UN CILINDRO--------------------\n",
            "-----------------------------------------------------------------------------------------------\n",
            "Ingrese el radio del cilindro: \n",
            " 4.3\n",
            "Ingrese la altura del cilindro: \n",
            " 27\n",
            "El área del cilindro es:  845.6537345600001\n",
            "El volumen del cilindro es:  1568.37697416\n"
          ]
        }
      ]
    },
    {
      "cell_type": "markdown",
      "source": [
        "##Escribir un programa que calcule el perímetro de un triángulo equilátero, teniendo como dato de entrada la altura."
      ],
      "metadata": {
        "id": "NYjN-kYZjIY-"
      }
    },
    {
      "cell_type": "code",
      "source": [
        "print(\"-----------------------------------------------------------------------\")\n",
        "print(\"---PROGRAMA PARA CALCULAR EL PRIMETRO DE UN TRIANGULO EQUILATERO-------\")\n",
        "print(\"-----------------------------------------------------------------------\")\n",
        "\n",
        "#Datos de entrada\n",
        "print(\"Ingrese la altura del triángulo equílatero: \")\n",
        "altura= int (input(\" \"))\n",
        "\n",
        "#Proceso\n",
        "perimetro= (2) * (altura) * (3**0.5)\n",
        "\n",
        "#Datos de salida\n",
        "print(\"El perimetro del triangulo equilatero es: \", perimetro)"
      ],
      "metadata": {
        "colab": {
          "base_uri": "https://localhost:8080/"
        },
        "id": "E2ebvR2mjWal",
        "outputId": "46ec2bbf-59cf-4c61-fe1b-eb174bf55666"
      },
      "execution_count": 14,
      "outputs": [
        {
          "output_type": "stream",
          "name": "stdout",
          "text": [
            "-----------------------------------------------------------------------------------------------\n",
            "----------------PROGRAMA PARA CALCULAR EL PRIMETRO DE UN TRIANGULO EQUILATERO------------------\n",
            "-----------------------------------------------------------------------------------------------\n",
            "Ingrese la altura del triángulo equílatero: \n",
            " 4\n",
            "El perimetro del triangulo equilatero es:  13.856406460551018\n"
          ]
        }
      ]
    }
  ]
}